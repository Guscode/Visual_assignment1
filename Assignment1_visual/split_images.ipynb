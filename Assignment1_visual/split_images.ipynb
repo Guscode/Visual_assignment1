{
 "cells": [
  {
   "cell_type": "markdown",
   "metadata": {},
   "source": [
    "### Create or find small dataset of images, using an online data source such as Kaggle. At the very least, your dataset should contain no fewer than 10 images.\n",
    "\n",
    "\n",
    "\n",
    "### Write a Python script which does the following:\n",
    "\n",
    "- For each image, find the width, height, and number of channels\n",
    "- For each image, split image into four equal-sized quadrants (i.e. top-left, top-right, bottom-left, bottom-right)\n",
    "- Save each of the split images in JPG format\n",
    "- Create and save a file containing the filename, width, height for all of the new images."
   ]
  },
  {
   "cell_type": "markdown",
   "metadata": {},
   "source": [
    "### Importing packages"
   ]
  },
  {
   "cell_type": "code",
   "execution_count": 9,
   "metadata": {},
   "outputs": [],
   "source": [
    "import numpy as np\n",
    "import pandas as pd\n",
    "import os\n",
    "import sys\n",
    "sys.path.append(os.path.join(\"..\"))\n",
    "import cv2 #openCv"
   ]
  },
  {
   "cell_type": "markdown",
   "metadata": {},
   "source": [
    "### Creating Folder to store split images"
   ]
  },
  {
   "cell_type": "code",
   "execution_count": 6,
   "metadata": {},
   "outputs": [],
   "source": [
    "if not os.path.exists('split_memes'):\n",
    "    os.makedirs('split_memes')"
   ]
  },
  {
   "cell_type": "markdown",
   "metadata": {},
   "source": [
    "### Looping through all images in 'memes folder', splitting and saving them"
   ]
  },
  {
   "cell_type": "code",
   "execution_count": 8,
   "metadata": {},
   "outputs": [],
   "source": [
    "meme_folder_path = os.path.join(\"memes\")\n",
    "filenames = [name for name in os.listdir(meme_folder_path)]\n",
    "widths =[]\n",
    "heights = []\n",
    "new_filenames = []\n",
    "for file in filenames:\n",
    "    path_to_image = os.path.join(meme_folder_path, file)\n",
    "    image= cv2.imread(path_to_image)\n",
    "    \n",
    "    height = int(image.shape[0])\n",
    "    width = int(image.shape[1])\n",
    "\n",
    "    topleft = image[ 0:int(height/2),0:int(width/2)]\n",
    "    topright = image[0:int(height/2),int(width/2):width]\n",
    "    bottomleft = image[int(height/2):height, 0:int(width/2)]\n",
    "    bottomright = image[int(height/2):height, int(width/2):width]\n",
    "    \n",
    "    topleft_path = os.path.join(\"split_memes\", os.path.splitext(file)[0]+\"_topleft.jpg\")\n",
    "    cv2.imwrite(topleft_path, topleft)\n",
    "    \n",
    "    topright_path = os.path.join(\"split_memes\", os.path.splitext(file)[0]+\"_topright.jpg\")\n",
    "    cv2.imwrite(topright_path, topright)\n",
    "    \n",
    "    bottomleft_path = os.path.join(\"split_memes\", os.path.splitext(file)[0]+\"_bottomleft.jpg\")\n",
    "    cv2.imwrite(bottomleft_path, bottomleft)\n",
    "    \n",
    "    bottomright_path = os.path.join(\"split_memes\", os.path.splitext(file)[0]+\"_bottomright.jpg\")\n",
    "    cv2.imwrite(bottomright_path, bottomright)\n",
    "    \n",
    "    widths.append(width)\n",
    "    heights.append(height)\n",
    "    new_filenames.append(os.path.splitext(file)[0]+\"_topleft.jpg\")\n",
    "    new_filenames.append(os.path.splitext(file)[0]+\"_topright.jpg\")\n",
    "    new_filenames.append(os.path.splitext(file)[0]+\"_bottomleft.jpg\")\n",
    "    new_filenames.append(os.path.splitext(file)[0]+\"_bottomright.jpg\")\n",
    "    \n",
    "\n",
    "\n",
    "\n",
    "#Saving lists in pandas data frame\n",
    "df = pd.DataFrame(list(zip(widths,heights, new_filenames)), columns=['width', 'height', 'new_filename']) \n",
    "\n",
    "#Making output path\n",
    "output_path = os.path.join(\"split_memes\",\"novel_words.csv\")\n",
    "\n",
    "df.to_csv(output_path)"
   ]
  }
 ],
 "metadata": {
  "kernelspec": {
   "display_name": "cv101",
   "language": "python",
   "name": "cv101"
  },
  "language_info": {
   "codemirror_mode": {
    "name": "ipython",
    "version": 3
   },
   "file_extension": ".py",
   "mimetype": "text/x-python",
   "name": "python",
   "nbconvert_exporter": "python",
   "pygments_lexer": "ipython3",
   "version": "3.6.9"
  }
 },
 "nbformat": 4,
 "nbformat_minor": 4
}
